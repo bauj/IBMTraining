{
    "cells": [
        {
            "cell_type": "markdown",
            "metadata": {},
            "source": "# Reading some stuff about the bundesliga football season 2021-2022"
        },
        {
            "cell_type": "code",
            "execution_count": 1,
            "metadata": {},
            "outputs": [
                {
                    "name": "stdout",
                    "output_type": "stream",
                    "text": "+-------+-------------------+--------+------+\n|gameday|               team|position|points|\n+-------+-------------------+--------+------+\n|      2|      VfL Wolfsburg|       1|     6|\n|      2|     TSG Hoffenheim|       2|     4|\n|      2|Bayer 04 Leverkusen|       3|     4|\n|      2|  FC Bayern M\u00fcnchen|       4|     4|\n|      2|Sport-Club Freiburg|       5|     4|\n+-------+-------------------+--------+------+\nonly showing top 5 rows\n\n"
                },
                {
                    "data": {
                        "text/plain": "configurationName = os_8e6e6bba169c4bc99643f2837197a32a_configs\ncos = com.ibm.ibmos2spark.CloudObjectStorage@b134e290\nspark = org.apache.spark.sql.SparkSession@f5ee2707\ndfData1 = [gameday: int, team: string ... 2 more fields]\n"
                    },
                    "metadata": {},
                    "output_type": "display_data"
                },
                {
                    "data": {
                        "text/plain": "getCredentials: ()scala.collection.mutable.HashMap[String,String]\n"
                    },
                    "metadata": {},
                    "output_type": "display_data"
                },
                {
                    "data": {
                        "text/plain": "[gameday: int, team: string ... 2 more fields]"
                    },
                    "execution_count": 1,
                    "metadata": {},
                    "output_type": "execute_result"
                }
            ],
            "source": "// The code was removed by Watson Studio for sharing."
        },
        {
            "cell_type": "code",
            "execution_count": null,
            "metadata": {},
            "outputs": [],
            "source": ""
        }
    ],
    "metadata": {
        "kernelspec": {
            "display_name": "Scala 2.12 with Spark",
            "language": "scala",
            "name": "scala"
        },
        "language_info": {
            "codemirror_mode": "text/x-scala",
            "file_extension": ".scala",
            "mimetype": "text/x-scala",
            "name": "scala",
            "pygments_lexer": "scala",
            "version": "2.12.12"
        }
    },
    "nbformat": 4,
    "nbformat_minor": 1
}